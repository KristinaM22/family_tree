{
 "cells": [
  {
   "cell_type": "code",
   "execution_count": 53,
   "metadata": {},
   "outputs": [],
   "source": [
    "import pandas as pd\n",
    "import numpy as np\n",
    "\n",
    "families = pd.read_csv('families.csv')\n",
    "marriages = pd.read_csv('marriages.csv')\n",
    "individuals = pd.read_csv('individuals.csv').set_index('Person')"
   ]
  },
  {
   "cell_type": "code",
   "execution_count": 55,
   "metadata": {},
   "outputs": [
    {
     "name": "stderr",
     "output_type": "stream",
     "text": [
      "C:\\Users\\nena\\AppData\\Local\\Temp/ipykernel_432/4263668213.py:15: FutureWarning: In a future version of pandas all arguments of DataFrame.set_index except for the argument 'keys' will be keyword-only\n",
      "  parents.set_index('Child', 'Parent')\n"
     ]
    },
    {
     "data": {
      "text/html": [
       "<div>\n",
       "<style scoped>\n",
       "    .dataframe tbody tr th:only-of-type {\n",
       "        vertical-align: middle;\n",
       "    }\n",
       "\n",
       "    .dataframe tbody tr th {\n",
       "        vertical-align: top;\n",
       "    }\n",
       "\n",
       "    .dataframe thead th {\n",
       "        text-align: right;\n",
       "    }\n",
       "</style>\n",
       "<table border=\"1\" class=\"dataframe\">\n",
       "  <thead>\n",
       "    <tr style=\"text-align: right;\">\n",
       "      <th></th>\n",
       "      <th>Parent</th>\n",
       "    </tr>\n",
       "    <tr>\n",
       "      <th>Child</th>\n",
       "      <th></th>\n",
       "    </tr>\n",
       "  </thead>\n",
       "  <tbody>\n",
       "    <tr>\n",
       "      <th>[I0003]</th>\n",
       "      <td>[I0002]</td>\n",
       "    </tr>\n",
       "    <tr>\n",
       "      <th>[I0004]</th>\n",
       "      <td>[I0002]</td>\n",
       "    </tr>\n",
       "    <tr>\n",
       "      <th>[I0005]</th>\n",
       "      <td>[I0002]</td>\n",
       "    </tr>\n",
       "    <tr>\n",
       "      <th>[I0006]</th>\n",
       "      <td>[I0002]</td>\n",
       "    </tr>\n",
       "    <tr>\n",
       "      <th>[I0007]</th>\n",
       "      <td>[I0002]</td>\n",
       "    </tr>\n",
       "    <tr>\n",
       "      <th>...</th>\n",
       "      <td>...</td>\n",
       "    </tr>\n",
       "    <tr>\n",
       "      <th>[I2996]</th>\n",
       "      <td>[I2999]</td>\n",
       "    </tr>\n",
       "    <tr>\n",
       "      <th>[I3006]</th>\n",
       "      <td>[I2999]</td>\n",
       "    </tr>\n",
       "    <tr>\n",
       "      <th>[I2999]</th>\n",
       "      <td>[I3000]</td>\n",
       "    </tr>\n",
       "    <tr>\n",
       "      <th>[I3000]</th>\n",
       "      <td>NaN</td>\n",
       "    </tr>\n",
       "    <tr>\n",
       "      <th>[I2995]</th>\n",
       "      <td>[I3008]</td>\n",
       "    </tr>\n",
       "  </tbody>\n",
       "</table>\n",
       "<p>4036 rows × 1 columns</p>\n",
       "</div>"
      ],
      "text/plain": [
       "          Parent\n",
       "Child           \n",
       "[I0003]  [I0002]\n",
       "[I0004]  [I0002]\n",
       "[I0005]  [I0002]\n",
       "[I0006]  [I0002]\n",
       "[I0007]  [I0002]\n",
       "...          ...\n",
       "[I2996]  [I2999]\n",
       "[I3006]  [I2999]\n",
       "[I2999]  [I3000]\n",
       "[I3000]      NaN\n",
       "[I2995]  [I3008]\n",
       "\n",
       "[4036 rows x 1 columns]"
      ]
     },
     "execution_count": 55,
     "metadata": {},
     "output_type": "execute_result"
    }
   ],
   "source": [
    "families.rename(columns = {'Family':'Marriage'}, inplace = True)\n",
    "\n",
    "db_mothers = marriages[['Marriage','Wife']]\n",
    "db_fathers = marriages[['Marriage','Husband']]\n",
    "\n",
    "db_mothers = families.join(db_mothers.set_index('Marriage'), on='Marriage')\n",
    "db_fathers = families.join(db_fathers.set_index('Marriage'), on='Marriage')\n",
    "\n",
    "db_mothers.rename(columns = {'Wife':'Parent'}, inplace = True)\n",
    "db_fathers.rename(columns = {'Husband':'Parent'}, inplace = True)\n",
    "\n",
    "parents = pd.concat([db_fathers, db_mothers], ignore_index=True)\n",
    "\n",
    "parents = parents[['Child', 'Parent']]"
   ]
  }
 ],
 "metadata": {
  "kernelspec": {
   "display_name": "Python 3.9.7 ('base')",
   "language": "python",
   "name": "python3"
  },
  "language_info": {
   "codemirror_mode": {
    "name": "ipython",
    "version": 3
   },
   "file_extension": ".py",
   "mimetype": "text/x-python",
   "name": "python",
   "nbconvert_exporter": "python",
   "pygments_lexer": "ipython3",
   "version": "3.9.7"
  },
  "orig_nbformat": 4,
  "vscode": {
   "interpreter": {
    "hash": "f09a994841a1a895f69b53df3c00de02c301e411f658ae477bb588b4fe4f0799"
   }
  }
 },
 "nbformat": 4,
 "nbformat_minor": 2
}
